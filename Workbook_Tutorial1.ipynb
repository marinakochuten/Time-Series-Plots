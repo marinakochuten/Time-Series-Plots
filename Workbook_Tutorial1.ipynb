{
 "cells": [
  {
   "cell_type": "markdown",
   "id": "490cc62a-7ed0-48b8-b913-667bf997652c",
   "metadata": {},
   "source": [
    "# Workbook for 1. Reading in Climate Data + Plotting a Regionally Averaged Time Series\n",
    "### **Authors**\n",
    "\n",
    "Samantha Stevenson sstevenson@ucsb.edu\n",
    "\n",
    "\n",
    "### **Table of Contents**\n",
    "\n",
    "[Goals](#purpose)\n",
    "\n",
    "[Download and Import Needed Packages](#import)\n",
    "\n",
    "[Locate the Downloaded Climate File](#locate)\n",
    "\n",
    "[Open the NetCDF File](#open)\n",
    "\n",
    "[Print and Analyze the Data](#print)\n",
    "\n",
    "[Convert the Time Variable to DateTime Format](#time)\n",
    "\n",
    "[Calculate Regional Average](#variable)\n",
    "\n",
    "[Plot!](#Plot)\n",
    "\n",
    "[Explore on Your Own](#explore)"
   ]
  },
  {
   "cell_type": "markdown",
   "id": "c4452c81-b798-4659-a426-709a5838906a",
   "metadata": {},
   "source": [
    "<a id='purpose'></a> \n",
    "# Goals\n",
    "\n",
    "This is the companion \"workbook\" for the tutorial \"1. Reading in Climate Data + Plotting a Regionally Averaged Time Series\". It does not contain any code! You can use this as a space to create your own workflow, based on the steps in the tutorial. We suggest using the same data file mentioned in the tutorial, but:\n",
    "\n",
    "- Specifying your own study region based on somewhere you're interested in\n",
    "\n",
    "- Customizing your plots: play with the x and y axis ranges, change the fonts and labels, whatever you want!\n",
    "\n",
    "You can also incorporate elements from the other tutorials in the repo if you're feeling ambitious."
   ]
  },
  {
   "cell_type": "markdown",
   "id": "9d421c86-1799-4a1d-bf81-6d2d8693b517",
   "metadata": {},
   "source": [
    "<a id='import'></a> \n",
    "## **Download + Import Needed Packages**\n",
    "\n",
    "You will need the `xarray` and `matplotlib` packages in your Python environment in order to complete this tutorial. If these have not already been installed, you can use the following commands in your __Terminal__ (Mac) or __Anaconda Prompt__ (Windows) to install them:\n",
    "\n",
    "`conda install xarray`\n",
    "\n",
    "`conda install matplotlib`"
   ]
  },
  {
   "cell_type": "code",
   "execution_count": 1,
   "id": "7ba48490-045e-4623-aed9-1c65fa3515e1",
   "metadata": {
    "tags": []
   },
   "outputs": [],
   "source": [
    "# Import necessary packages\n",
    "import xarray as xr\n",
    "import matplotlib.pyplot as plt"
   ]
  },
  {
   "cell_type": "markdown",
   "id": "9b624ca9-b26d-4e1a-9ed0-bb40273265ce",
   "metadata": {},
   "source": [
    "<a id='open'></a> \n",
    "## **Locate and Open the Downloaded Climate File**\n",
    "\n",
    "Now we need to tell Python where to find the file containing climate information. This is done by specifying the file _path_, the directory where the file is located, in addition to the name of the file. You can find the path either using the Finder (Mac) or Windows Explorer, or use a quick hack:\n",
    "\n",
    "- To find the file path name grab the downloaded file out of your finder/desktop and drag it into your terminal!\n",
    "-  The terminal will spit out the name of where to find the file\n",
    "-  Now Copy and paste the location of that file.\n",
    "- For me it is `/Users/samstevenson/Box Sync/Climate_DataLab/tas_Amon_CanESM5_historical_r10i1p1f1_gn_185001-201412.nc`\n",
    "\n",
    "Once you've found the file path, the next step is to use the imported package Xarray to open the data set. We’ll use the `open_dataset()` function from xarray to open the NetCDF file. This will be referred to using the syntax `xr.open_dataset()`, where `xr` is the \"alias\" you gave the xarray package when it was imported.\n",
    "\n",
    "All you need to do is to copy the terminal code that revealed the location of the file in your computer and paste it into the `xr.open_dataset()` function. This function then reads the file and loads it into an xarray.Dataset object which allows for easy manipulation and analysis of the data."
   ]
  },
  {
   "cell_type": "code",
   "execution_count": 2,
   "id": "104c4d19-380b-44c6-8691-5ddf4dc8396c",
   "metadata": {
    "tags": []
   },
   "outputs": [],
   "source": [
    "# Open the netCDF file containing temperature information, based on the path from your local machine\n",
    "data = xr.open_dataset('data/tas_Amon_CanESM5_historical_r10i1p1f1_gn_185001-201412.nc')"
   ]
  },
  {
   "cell_type": "markdown",
   "id": "f76db94b-8b87-4748-81ec-6003fcb56108",
   "metadata": {},
   "source": [
    "<a id='print'></a> \n",
    "## **Print and Analyze the Data**\n",
    "\n",
    "It's good practice after reading information from a data file into xarray, to u se the `print` function to take a quick look at what's inside. Here, the block of code above has resulted in an xarray object called `data` - but what's in there??\n",
    "\n",
    " __We print the dataset because it...__\n",
    "- Provides a clear picture of what the data looks like and what we have to work with\n",
    "- Allows us to verify that the necessary variables (e.g, `tas` for near-air surface temperature) are present in the dataset\n",
    "- Gives an indication of whether the dataset covers the required time range and geographical region that we may need if we were to plot or analyze the data"
   ]
  },
  {
   "cell_type": "code",
   "execution_count": 3,
   "id": "ed5de52f-4419-45f9-992b-b6ba12060342",
   "metadata": {
    "tags": []
   },
   "outputs": [
    {
     "name": "stdout",
     "output_type": "stream",
     "text": [
      "<xarray.Dataset>\n",
      "Dimensions:    (time: 1980, bnds: 2, lat: 64, lon: 128)\n",
      "Coordinates:\n",
      "  * time       (time) object 1850-01-16 12:00:00 ... 2014-12-16 12:00:00\n",
      "  * lat        (lat) float64 -87.86 -85.1 -82.31 -79.53 ... 82.31 85.1 87.86\n",
      "  * lon        (lon) float64 0.0 2.812 5.625 8.438 ... 348.8 351.6 354.4 357.2\n",
      "    height     float64 ...\n",
      "Dimensions without coordinates: bnds\n",
      "Data variables:\n",
      "    time_bnds  (time, bnds) object ...\n",
      "    lat_bnds   (lat, bnds) float64 ...\n",
      "    lon_bnds   (lon, bnds) float64 ...\n",
      "    tas        (time, lat, lon) float32 ...\n",
      "Attributes: (12/53)\n",
      "    CCCma_model_hash:            55f484f90aff0e32c5a8e92a42c6b9ae7ffe6224\n",
      "    CCCma_parent_runid:          rc3.1-pictrl\n",
      "    CCCma_pycmor_hash:           33c30511acc319a98240633965a04ca99c26427e\n",
      "    CCCma_runid:                 rc3.1-his10\n",
      "    Conventions:                 CF-1.7 CMIP-6.2\n",
      "    YMDH_branch_time_in_child:   1850:01:01:00\n",
      "    ...                          ...\n",
      "    tracking_id:                 hdl:21.14100/5ed65f32-a352-4bd1-83a4-c659b4f...\n",
      "    variable_id:                 tas\n",
      "    variant_label:               r10i1p1f1\n",
      "    version:                     v20190429\n",
      "    license:                     CMIP6 model data produced by The Government ...\n",
      "    cmor_version:                3.4.0\n"
     ]
    }
   ],
   "source": [
    "# Print the data contents\n",
    "print(data)"
   ]
  },
  {
   "cell_type": "markdown",
   "id": "a4bbfe4a-d42b-400d-b7aa-8d304cc5288c",
   "metadata": {},
   "source": [
    "<a id='time'></a> \n",
    "## **Convert the Time Variable to DateTime Format**\n",
    "We will use the package `Matplotlib` for plotting our time series graph. To make sure our climate data is in the right time format for plotting we will print `data.time` to see what the format is. This is good practice, since there are many different calendars that are used by various climate models!\n",
    "\n",
    "In the file provided, "
   ]
  },
  {
   "cell_type": "code",
   "execution_count": 6,
   "id": "56685630-966e-446d-bf6d-c006265a8269",
   "metadata": {
    "tags": []
   },
   "outputs": [
    {
     "name": "stdout",
     "output_type": "stream",
     "text": [
      "<xarray.DataArray 'time' (time: 1980)>\n",
      "array([cftime.DatetimeNoLeap(1850, 1, 16, 12, 0, 0, 0, has_year_zero=True),\n",
      "       cftime.DatetimeNoLeap(1850, 2, 15, 0, 0, 0, 0, has_year_zero=True),\n",
      "       cftime.DatetimeNoLeap(1850, 3, 16, 12, 0, 0, 0, has_year_zero=True),\n",
      "       ...,\n",
      "       cftime.DatetimeNoLeap(2014, 10, 16, 12, 0, 0, 0, has_year_zero=True),\n",
      "       cftime.DatetimeNoLeap(2014, 11, 16, 0, 0, 0, 0, has_year_zero=True),\n",
      "       cftime.DatetimeNoLeap(2014, 12, 16, 12, 0, 0, 0, has_year_zero=True)],\n",
      "      dtype=object)\n",
      "Coordinates:\n",
      "  * time     (time) object 1850-01-16 12:00:00 ... 2014-12-16 12:00:00\n",
      "    height   float64 ...\n",
      "Attributes:\n",
      "    bounds:         time_bnds\n",
      "    axis:           T\n",
      "    long_name:      time\n",
      "    standard_name:  time\n",
      "<xarray.DataArray 'time' (time: 1980)>\n",
      "array(['1850-01-16T12:00:00.000000000', '1850-02-15T00:00:00.000000000',\n",
      "       '1850-03-16T12:00:00.000000000', ...,\n",
      "       '2014-10-16T12:00:00.000000000', '2014-11-16T00:00:00.000000000',\n",
      "       '2014-12-16T12:00:00.000000000'], dtype='datetime64[ns]')\n",
      "Coordinates:\n",
      "  * time     (time) object 1850-01-16 12:00:00 ... 2014-12-16 12:00:00\n",
      "    height   float64 ...\n",
      "Attributes:\n",
      "    bounds:         time_bnds\n",
      "    axis:           T\n",
      "    long_name:      time\n",
      "    standard_name:  time\n"
     ]
    }
   ],
   "source": [
    "# Print the time array to see what format it uses\n",
    "print(data.time)\n",
    "\n",
    "# If it's not datetime64, convert to datetime64\n",
    "time = data.time.astype('datetime64[ns]')\n",
    "print(time)"
   ]
  },
  {
   "cell_type": "markdown",
   "id": "54fff447-21df-48ae-a58f-ecbb9dd10ccd",
   "metadata": {},
   "source": [
    "<a id='variable'></a> \n",
    "## **Calculate Regional Average**\n",
    "The dataset contains near-surface air temperature data (`tas`) recorded at different latitudes, longitudes, and times. In order to make this into a time series that you can plot, we need to reduce the dimension of the data by averaging over the latitude and longitude axes. \n",
    "\n",
    "For more information about all of the CMIP climate data variable short names visit [here](https://pcmdi.llnl.gov/mips/cmip3/variableList.html) and scroll down a little.\n",
    "\n",
    "The first thing we need to do in order to create a regional average is to pick a region. \n",
    "\n",
    "**NOTE: if your region is small, make sure that you make it large enough to include at least one model grid point!**\n"
   ]
  },
  {
   "cell_type": "code",
   "execution_count": 7,
   "id": "b539f483-65aa-4a09-8bb7-b0176406dff2",
   "metadata": {
    "tags": []
   },
   "outputs": [],
   "source": [
    "# Select tas variable\n",
    "tas = data.tas\n",
    "\n",
    "# Define min/max bounds for region of interest (NYC)\n",
    "lat_min, lat_max = 40, 41.5\n",
    "lon_min, lon_max = 285.5, 287"
   ]
  },
  {
   "cell_type": "markdown",
   "id": "8aebe3e1-0163-42eb-b6f4-9233d0b0968e",
   "metadata": {},
   "source": [
    "<a id='Plot'></a>  \n",
    "## **Plot!**  \n",
    "Here we will plot a time series of the air surface temperature for our climate data, which spans the entire world from 1850 to 2014. "
   ]
  },
  {
   "cell_type": "markdown",
   "id": "98ec556c-8931-4a20-81a1-eafa12f65eca",
   "metadata": {},
   "source": [
    "<a id='explore'></a>  \n",
    "## **Explore on Your Own**\n",
    "\n",
    "Now it's time to do some playing with things on your own! See if you can change the code around, customize it, come up with new ideas, whatever you want. Some possibilities to think about:\n",
    "\n",
    "- Add another averaging region for a second location and see if you can add it to your plot\n",
    "- Plot the *difference* in temperature between two regions\n",
    "- Change the line color, font sizes, or other formatting of the plot\n",
    "- If you're extra excited, see if you can include some items from the next tutorials (annual averaging? Time slicing to specific year ranges? Anomaly calculation?)"
   ]
  },
  {
   "cell_type": "code",
   "execution_count": null,
   "id": "6731031d-92f4-494c-9811-7a2dd5868f8e",
   "metadata": {},
   "outputs": [],
   "source": []
  }
 ],
 "metadata": {
  "kernelspec": {
   "display_name": "Anaconda 3 (EDS 296)",
   "language": "python",
   "name": "eds296-stevenson"
  },
  "language_info": {
   "codemirror_mode": {
    "name": "ipython",
    "version": 3
   },
   "file_extension": ".py",
   "mimetype": "text/x-python",
   "name": "python",
   "nbconvert_exporter": "python",
   "pygments_lexer": "ipython3",
   "version": "3.8.20"
  }
 },
 "nbformat": 4,
 "nbformat_minor": 5
}
